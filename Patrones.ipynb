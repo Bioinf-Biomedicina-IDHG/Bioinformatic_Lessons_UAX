{
 "cells": [
  {
   "cell_type": "markdown",
   "id": "9fd70ba0-3602-49cb-91d9-45fad34fa50e",
   "metadata": {},
   "source": [
    "# BÚSQUEDA DE PATRONES\n",
    "\n",
    "### grep"
   ]
  },
  {
   "cell_type": "code",
   "execution_count": 1,
   "id": "18a0367b-ab55-4b75-93a7-c4d2dc5934dd",
   "metadata": {},
   "outputs": [
    {
     "name": "stdout",
     "output_type": "stream",
     "text": [
      "grep (GNU grep) 3.7\n",
      "Copyright © 2021 Free Software Foundation, Inc.\n",
      "Licencia GPLv3+: GPL de GNU versión 3 o posterior <https://gnu.org/licenses/gpl.html>.\n",
      "Esto es software libre: usted es libre de cambiarlo y redistribuirlo.\n",
      "No hay NINGUNA GARANTÍA, hasta donde permite la ley.\n",
      "\n",
      "Escrito por Mike Haertel y otros; véase\n",
      "<http://git.sv.gnu.org/cgit/grep.git/tree/AUTHORS>.\n"
     ]
    }
   ],
   "source": [
    "grep --version"
   ]
  },
  {
   "cell_type": "code",
   "execution_count": 2,
   "id": "2ac4cace-2aae-4d90-a4f8-6e5137ed5b71",
   "metadata": {},
   "outputs": [
    {
     "name": "stdout",
     "output_type": "stream",
     "text": [
      "Modo de empleo: grep [OPCIÓN]... PATRONES [FICHERO]...\n",
      "Busca PATRONES en cada FICHERO.\n",
      "Ejemplo: grep -i 'hola mundo' menu.h main.c\n",
      "PATRONES puede contener varios patrones separados por líneas nuevas.\n",
      "\n",
      "Selección e interpretación de patrón:\n",
      "  -E, --extended-regexp     PATRONES son expresiones regulares extendidas (ERE)\n",
      "  -F, --fixed-strings       PATRONES son cadenas\n",
      "  -G, --basic-regexp        PATRONES son expresiones regulares básicas (BRE)\n",
      "  -P, --perl-regexp         PATRONES son expresiones regulares en Perl\n",
      "  -e, --regexp=PATRONES     utiliza PATRONES para encontrar coincidencias\n",
      "  -f, --file=FICHERO        obtiene PATRONES de FICHERO\n",
      "  -i, --ignore-case         considera iguales mayúsculas y minúsculas\n",
      "      --no-ignore-case      considera diferentes mayúsculas y minúsculas\n",
      "  -w, --word-regexp         coincide solamente con palabras completas\n",
      "  -x, --line-regexp         coincide solamente con líneas completas\n",
      "  -z, --null-data           una línea de datos termina en un byte 0, no\n",
      "                            en un carácter de nueva línea\n",
      "\n",
      "Variadas:\n",
      "  -s, --no-messages         suprime los mensajes de error\n",
      "  -v, --invert-match        selecciona las líneas que no coinciden\n",
      "  -V, --version             muestra la versión y finaliza\n",
      "      --help                muestra este texto de ayuda y finaliza\n",
      "\n",
      "Control del resultado:\n",
      "  -m, --max-count=NÚM       se detiene después de NÚM líneas seleccionadas\n",
      "  -b, --byte-offset         muestra el desplazamiento en bytes junto\n",
      "                            con las líneas de salida\n",
      "  -n, --line-number         muestra el número de línea junto con\n",
      "                            las líneas de salida\n",
      "      --line-buffered       descarga el resultado para cada línea\n",
      "  -H, --with-filename       muestra el nombre del fichero con las\n",
      "                            líneas de salida\n",
      "  -h, --no-filename         suprime el nombres del fichero como prefijo\n",
      "                            en el resultado\n",
      "      --label=ETIQUETA      utiliza ETIQUETA como nombre de fichero prefijo\n",
      "                            para la entrada estándar\n",
      "  -o, --only-matching       muestra solamente las partes no-vacías de líneas\n",
      "                            que coinciden\n",
      "  -q, --quiet, --silent     suprime todo el resultado normal\n",
      "      --binary-files=TIPO   supone que los ficheros binarios son TIPO;\n",
      "                            TIPO es 'binary', 'text', o 'without-match'\n",
      "  -a, --text                equivalente a --binary-files=text\n",
      "  -I                        equivalente a --binary-files=without-match\n",
      "  -d, --directories=ACCIÓN  especifica cómo manejar los directorios\n",
      "                            ACCIÓN es 'read', 'recurse', o 'skip'\n",
      "  -D, --devices=ACCIÓN      especifica cómo manejar dispositivos, FIFOs y\n",
      "                            `sockets', puede ser 'read' o 'skip'\n",
      "  -r, --recursive           equivalente a --directories=recurse\n",
      "  -R, --dereference-recursive  similar, pero sigue todos los enlaces simbólicos\n",
      "      --include=GLOB         examina los ficheros que encajan con GLOB (un\n",
      "                             patrón de fichero)\n",
      "      --exclude=GLOB         se salta los ficheros que encajan con GLOB\n",
      "      --exclude-from=FICHERO se salta los ficheros que encajan con los patrones\n",
      "                             de FICHERO\n",
      "      --exclude-dir=GLOB     se salta los directorios que encajan con GLOB\n",
      "  -L, --files-without-match muestra solamente los nombres de FICHEROs\n",
      "                            que no contienen líneas seleccionadas\n",
      "  -l, --files-with-matches  muestra solamente los nombres de FICHEROs\n",
      "                            que contienen líneas seleccionadas\n",
      "  -c, --count               muestra solamente el total de líneas que coinciden\n",
      "                            por cada FICHERO\n",
      "  -Z, --null                imprime un byte 0 después del nombre del FICHERO\n",
      "\n",
      "Control del contexto:\n",
      "  -B, --before-context=NÚM  muestra NÚM líneas de contexto anterior\n",
      "  -A, --after-context=NÚM   muestra NÚM líneas de contexto posterior\n",
      "  -C, --context=NÚM         muestra NÚM líneas de contexto\n",
      "  -NÚM                      lo mismo que --context=NÚM\n",
      "      --group-separator=SEP muestra SEP en la línea entre coincidencias con\n",
      "                            contexto\n",
      "      --no-group-separator  no muestra separador para coincidencias con\n",
      "                            contexto\n",
      "      --color[=CUÁNDO],\n",
      "      --colour[=CUÁNDO]     distingue con marcadores la cadena que encaja\n",
      "                            CUÁNDO puede ser 'always', 'never' o 'auto'\n",
      "  -U, --binary              no elimina los caracteres de retorno de carro\n",
      "                            en finales de línea (MSDOS/Windows)\n",
      "\n",
      "Cuando FICHERO es '-', lee la entrada estándar.  Si no se especifica\n",
      "ningún FICHERO, lee '.' si es recursiva, o '-' en caso contrario. Con\n",
      "menos de dos FICHEROs, se supone -h.\n",
      "Estado de salida es 0 si hay coincidencias, 1 si no las hay; si ocurre\n",
      "algún error y no se especificó -q, el estado de salida es 2.\n",
      "\n",
      "Comunicar errores en el programa a: bug-grep@gnu.org\n",
      "Página inicial de GNU grep: <https://www.gnu.org/software/grep/>\n",
      "Ayuda general sobre el uso de software de GNU: <https://www.gnu.org/gethelp/>\n"
     ]
    }
   ],
   "source": [
    "grep --help"
   ]
  },
  {
   "cell_type": "code",
   "execution_count": 3,
   "id": "9b7e4928-9517-4234-ad27-d243a9459691",
   "metadata": {},
   "outputs": [
    {
     "name": "stdout",
     "output_type": "stream",
     "text": [
      "\u001b[0m\u001b[01;34mbash\u001b[0m  Ejercicio2.ipynb  \u001b[01;32mllama.jpg\u001b[0m  Patrones.ipynb  \u001b[01;32mpoema.txt\u001b[0m  trabajo.ipynb\n"
     ]
    }
   ],
   "source": [
    "ls"
   ]
  },
  {
   "cell_type": "code",
   "execution_count": 10,
   "id": "ecf409e1-dc94-4dec-aec7-7d12df73e0ac",
   "metadata": {},
   "outputs": [],
   "source": [
    "# Encontrar la palabra computadora sin diferenciar mayúsculas de minúsculas y guardarlo en un archivo\n",
    "grep -i \"computadora\" poema.txt > mi_primera_regex.txt"
   ]
  },
  {
   "cell_type": "code",
   "execution_count": 11,
   "id": "1a83dd12-4877-4fc3-85f0-37dd8367896a",
   "metadata": {},
   "outputs": [
    {
     "name": "stdout",
     "output_type": "stream",
     "text": [
      "Fecha:15/03/20\n",
      "Código: 00112233\n",
      "La primera es la vencida\n",
      "La tercera es la tercera\n",
      "Así que reto a cualquiera\n",
      "Que conmigo aquí se mida\n",
      "Quien acepte es un suicida\n",
      "Que se sobrevalora\n",
      "Porque nadie me vence ahora\n",
      "Ni el coplero campeón mundial\n",
      "Ni un rapero de freestyle\n",
      "Ni\n",
      "\n",
      "¿Lo dice usted que es un simple humano?\n",
      "Se muestra tan ufano\n",
      "Pero le llegó la hora\n",
      "Porque su ego lo devora\n",
      "Y se cree superior a ultranza\n",
      "Pero con una muestra alcanza\n",
      "Hoy las bombas que crearon sus mentes\n",
      "Son más inteligentes\n",
      "Que los idiotas que las lansan\n",
      "\n",
      "Los idiotas que las lanzan\n",
      "A mí no me representan\n",
      "Pero a los que las inventan\n",
      "Quizás debas tu confianza Y aunque parezca chanza\n",
      "Tu vida es por su invención\n",
      "Y digo vida con compasión\n",
      "A un rejunte irrazonable\n",
      "De circuitos, chips y cables\n",
      "Sin alma ni corazón\n"
     ]
    }
   ],
   "source": [
    "# ¿Qué pasa si hago esto?\n",
    "grep -i -E -v \"computadora|Roberto\" poema.txt"
   ]
  },
  {
   "cell_type": "code",
   "execution_count": 13,
   "id": "a8ad607d-d2a0-4f55-a491-c12f6adbca34",
   "metadata": {},
   "outputs": [
    {
     "name": "stdout",
     "output_type": "stream",
     "text": [
      "F\u001b[01;31m\u001b[Ke\u001b[m\u001b[Kch\u001b[01;31m\u001b[Ka\u001b[m\u001b[K:15/03/20\n",
      "[V\u001b[01;31m\u001b[Ke\u001b[m\u001b[Krso 1:Rob\u001b[01;31m\u001b[Ke\u001b[m\u001b[Krto]++++\n",
      "L\u001b[01;31m\u001b[Ka\u001b[m\u001b[K prim\u001b[01;31m\u001b[Ke\u001b[m\u001b[Kr\u001b[01;31m\u001b[Ka\u001b[m\u001b[K \u001b[01;31m\u001b[Ke\u001b[m\u001b[Ks l\u001b[01;31m\u001b[Ka\u001b[m\u001b[K v\u001b[01;31m\u001b[Ke\u001b[m\u001b[Kncid\u001b[01;31m\u001b[Ka\u001b[m\u001b[K\n",
      "L\u001b[01;31m\u001b[Ka\u001b[m\u001b[K t\u001b[01;31m\u001b[Ke\u001b[m\u001b[Krc\u001b[01;31m\u001b[Ke\u001b[m\u001b[Kr\u001b[01;31m\u001b[Ka\u001b[m\u001b[K \u001b[01;31m\u001b[Ke\u001b[m\u001b[Ks l\u001b[01;31m\u001b[Ka\u001b[m\u001b[K t\u001b[01;31m\u001b[Ke\u001b[m\u001b[Krc\u001b[01;31m\u001b[Ke\u001b[m\u001b[Kr\u001b[01;31m\u001b[Ka\u001b[m\u001b[K\n",
      "Así qu\u001b[01;31m\u001b[Ke\u001b[m\u001b[K r\u001b[01;31m\u001b[Ke\u001b[m\u001b[Kto \u001b[01;31m\u001b[Ka\u001b[m\u001b[K cu\u001b[01;31m\u001b[Ka\u001b[m\u001b[Klqui\u001b[01;31m\u001b[Ke\u001b[m\u001b[Kr\u001b[01;31m\u001b[Ka\u001b[m\u001b[K\n",
      "Qu\u001b[01;31m\u001b[Ke\u001b[m\u001b[K conmigo \u001b[01;31m\u001b[Ka\u001b[m\u001b[Kquí s\u001b[01;31m\u001b[Ke\u001b[m\u001b[K mid\u001b[01;31m\u001b[Ka\u001b[m\u001b[K\n",
      "Qui\u001b[01;31m\u001b[Ke\u001b[m\u001b[Kn \u001b[01;31m\u001b[Ka\u001b[m\u001b[Kc\u001b[01;31m\u001b[Ke\u001b[m\u001b[Kpt\u001b[01;31m\u001b[Ke\u001b[m\u001b[K \u001b[01;31m\u001b[Ke\u001b[m\u001b[Ks un suicid\u001b[01;31m\u001b[Ka\u001b[m\u001b[K\n",
      "Qu\u001b[01;31m\u001b[Ke\u001b[m\u001b[K s\u001b[01;31m\u001b[Ke\u001b[m\u001b[K sobr\u001b[01;31m\u001b[Ke\u001b[m\u001b[Kv\u001b[01;31m\u001b[Ka\u001b[m\u001b[Klor\u001b[01;31m\u001b[Ka\u001b[m\u001b[K\n",
      "Porqu\u001b[01;31m\u001b[Ke\u001b[m\u001b[K n\u001b[01;31m\u001b[Ka\u001b[m\u001b[Kdi\u001b[01;31m\u001b[Ke\u001b[m\u001b[K m\u001b[01;31m\u001b[Ke\u001b[m\u001b[K v\u001b[01;31m\u001b[Ke\u001b[m\u001b[Knc\u001b[01;31m\u001b[Ke\u001b[m\u001b[K \u001b[01;31m\u001b[Ka\u001b[m\u001b[Khor\u001b[01;31m\u001b[Ka\u001b[m\u001b[K\n",
      "Ni \u001b[01;31m\u001b[Ke\u001b[m\u001b[Kl copl\u001b[01;31m\u001b[Ke\u001b[m\u001b[Kro c\u001b[01;31m\u001b[Ka\u001b[m\u001b[Kmp\u001b[01;31m\u001b[Ke\u001b[m\u001b[Kón mundi\u001b[01;31m\u001b[Ka\u001b[m\u001b[Kl\n",
      "Ni un r\u001b[01;31m\u001b[Ka\u001b[m\u001b[Kp\u001b[01;31m\u001b[Ke\u001b[m\u001b[Kro d\u001b[01;31m\u001b[Ke\u001b[m\u001b[K fr\u001b[01;31m\u001b[Ke\u001b[m\u001b[K\u001b[01;31m\u001b[Ke\u001b[m\u001b[Kstyl\u001b[01;31m\u001b[Ke\u001b[m\u001b[K\n",
      "Ni l\u001b[01;31m\u001b[Ka\u001b[m\u001b[K m\u001b[01;31m\u001b[Ke\u001b[m\u001b[Kjor comput\u001b[01;31m\u001b[Ka\u001b[m\u001b[Kdor\u001b[01;31m\u001b[Ka\u001b[m\u001b[K\n",
      "[V\u001b[01;31m\u001b[Ke\u001b[m\u001b[Krso 2:comput\u001b[01;31m\u001b[Ka\u001b[m\u001b[Kdor\u001b[01;31m\u001b[Ka\u001b[m\u001b[K]***\n",
      "¿Ni l\u001b[01;31m\u001b[Ka\u001b[m\u001b[K m\u001b[01;31m\u001b[Ke\u001b[m\u001b[Kjor comput\u001b[01;31m\u001b[Ka\u001b[m\u001b[Kdor\u001b[01;31m\u001b[Ka\u001b[m\u001b[K?\n",
      "¿Ni l\u001b[01;31m\u001b[Ka\u001b[m\u001b[K m\u001b[01;31m\u001b[Ke\u001b[m\u001b[Kjor Comput\u001b[01;31m\u001b[Ka\u001b[m\u001b[Kdor\u001b[01;31m\u001b[Ka\u001b[m\u001b[K?\n",
      "¿Lo dic\u001b[01;31m\u001b[Ke\u001b[m\u001b[K ust\u001b[01;31m\u001b[Ke\u001b[m\u001b[Kd qu\u001b[01;31m\u001b[Ke\u001b[m\u001b[K \u001b[01;31m\u001b[Ke\u001b[m\u001b[Ks un simpl\u001b[01;31m\u001b[Ke\u001b[m\u001b[K hum\u001b[01;31m\u001b[Ka\u001b[m\u001b[Kno?\n",
      "S\u001b[01;31m\u001b[Ke\u001b[m\u001b[K mu\u001b[01;31m\u001b[Ke\u001b[m\u001b[Kstr\u001b[01;31m\u001b[Ka\u001b[m\u001b[K t\u001b[01;31m\u001b[Ka\u001b[m\u001b[Kn uf\u001b[01;31m\u001b[Ka\u001b[m\u001b[Kno\n",
      "P\u001b[01;31m\u001b[Ke\u001b[m\u001b[Kro l\u001b[01;31m\u001b[Ke\u001b[m\u001b[K ll\u001b[01;31m\u001b[Ke\u001b[m\u001b[Kgó l\u001b[01;31m\u001b[Ka\u001b[m\u001b[K hor\u001b[01;31m\u001b[Ka\u001b[m\u001b[K\n",
      "Porqu\u001b[01;31m\u001b[Ke\u001b[m\u001b[K su \u001b[01;31m\u001b[Ke\u001b[m\u001b[Kgo lo d\u001b[01;31m\u001b[Ke\u001b[m\u001b[Kvor\u001b[01;31m\u001b[Ka\u001b[m\u001b[K\n",
      "Y s\u001b[01;31m\u001b[Ke\u001b[m\u001b[K cr\u001b[01;31m\u001b[Ke\u001b[m\u001b[K\u001b[01;31m\u001b[Ke\u001b[m\u001b[K sup\u001b[01;31m\u001b[Ke\u001b[m\u001b[Krior \u001b[01;31m\u001b[Ka\u001b[m\u001b[K ultr\u001b[01;31m\u001b[Ka\u001b[m\u001b[Knz\u001b[01;31m\u001b[Ka\u001b[m\u001b[K\n",
      "P\u001b[01;31m\u001b[Ke\u001b[m\u001b[Kro con un\u001b[01;31m\u001b[Ka\u001b[m\u001b[K mu\u001b[01;31m\u001b[Ke\u001b[m\u001b[Kstr\u001b[01;31m\u001b[Ka\u001b[m\u001b[K \u001b[01;31m\u001b[Ka\u001b[m\u001b[Klc\u001b[01;31m\u001b[Ka\u001b[m\u001b[Knz\u001b[01;31m\u001b[Ka\u001b[m\u001b[K\n",
      "Hoy l\u001b[01;31m\u001b[Ka\u001b[m\u001b[Ks bomb\u001b[01;31m\u001b[Ka\u001b[m\u001b[Ks qu\u001b[01;31m\u001b[Ke\u001b[m\u001b[K cr\u001b[01;31m\u001b[Ke\u001b[m\u001b[K\u001b[01;31m\u001b[Ka\u001b[m\u001b[Kron sus m\u001b[01;31m\u001b[Ke\u001b[m\u001b[Knt\u001b[01;31m\u001b[Ke\u001b[m\u001b[Ks\n",
      "Son más int\u001b[01;31m\u001b[Ke\u001b[m\u001b[Klig\u001b[01;31m\u001b[Ke\u001b[m\u001b[Knt\u001b[01;31m\u001b[Ke\u001b[m\u001b[Ks\n",
      "Qu\u001b[01;31m\u001b[Ke\u001b[m\u001b[K los idiot\u001b[01;31m\u001b[Ka\u001b[m\u001b[Ks qu\u001b[01;31m\u001b[Ke\u001b[m\u001b[K l\u001b[01;31m\u001b[Ka\u001b[m\u001b[Ks l\u001b[01;31m\u001b[Ka\u001b[m\u001b[Kns\u001b[01;31m\u001b[Ka\u001b[m\u001b[Kn\n",
      "[V\u001b[01;31m\u001b[Ke\u001b[m\u001b[Krso 3:Rob\u001b[01;31m\u001b[Ke\u001b[m\u001b[Krto]++**\n",
      "Los idiot\u001b[01;31m\u001b[Ka\u001b[m\u001b[Ks qu\u001b[01;31m\u001b[Ke\u001b[m\u001b[K l\u001b[01;31m\u001b[Ka\u001b[m\u001b[Ks l\u001b[01;31m\u001b[Ka\u001b[m\u001b[Knz\u001b[01;31m\u001b[Ka\u001b[m\u001b[Kn\n",
      "A mí no m\u001b[01;31m\u001b[Ke\u001b[m\u001b[K r\u001b[01;31m\u001b[Ke\u001b[m\u001b[Kpr\u001b[01;31m\u001b[Ke\u001b[m\u001b[Ks\u001b[01;31m\u001b[Ke\u001b[m\u001b[Knt\u001b[01;31m\u001b[Ka\u001b[m\u001b[Kn\n",
      "P\u001b[01;31m\u001b[Ke\u001b[m\u001b[Kro \u001b[01;31m\u001b[Ka\u001b[m\u001b[K los qu\u001b[01;31m\u001b[Ke\u001b[m\u001b[K l\u001b[01;31m\u001b[Ka\u001b[m\u001b[Ks inv\u001b[01;31m\u001b[Ke\u001b[m\u001b[Knt\u001b[01;31m\u001b[Ka\u001b[m\u001b[Kn\n",
      "Quizás d\u001b[01;31m\u001b[Ke\u001b[m\u001b[Kb\u001b[01;31m\u001b[Ka\u001b[m\u001b[Ks tu confi\u001b[01;31m\u001b[Ka\u001b[m\u001b[Knz\u001b[01;31m\u001b[Ka\u001b[m\u001b[K Y \u001b[01;31m\u001b[Ka\u001b[m\u001b[Kunqu\u001b[01;31m\u001b[Ke\u001b[m\u001b[K p\u001b[01;31m\u001b[Ka\u001b[m\u001b[Kr\u001b[01;31m\u001b[Ke\u001b[m\u001b[Kzc\u001b[01;31m\u001b[Ka\u001b[m\u001b[K ch\u001b[01;31m\u001b[Ka\u001b[m\u001b[Knz\u001b[01;31m\u001b[Ka\u001b[m\u001b[K\n",
      "Tu vid\u001b[01;31m\u001b[Ka\u001b[m\u001b[K \u001b[01;31m\u001b[Ke\u001b[m\u001b[Ks por su inv\u001b[01;31m\u001b[Ke\u001b[m\u001b[Knción\n",
      "Y digo vid\u001b[01;31m\u001b[Ka\u001b[m\u001b[K con comp\u001b[01;31m\u001b[Ka\u001b[m\u001b[Ksión\n",
      "A un r\u001b[01;31m\u001b[Ke\u001b[m\u001b[Kjunt\u001b[01;31m\u001b[Ke\u001b[m\u001b[K irr\u001b[01;31m\u001b[Ka\u001b[m\u001b[Kzon\u001b[01;31m\u001b[Ka\u001b[m\u001b[Kbl\u001b[01;31m\u001b[Ke\u001b[m\u001b[K\n",
      "D\u001b[01;31m\u001b[Ke\u001b[m\u001b[K circuitos, chips y c\u001b[01;31m\u001b[Ka\u001b[m\u001b[Kbl\u001b[01;31m\u001b[Ke\u001b[m\u001b[Ks\n",
      "Sin \u001b[01;31m\u001b[Ka\u001b[m\u001b[Klm\u001b[01;31m\u001b[Ka\u001b[m\u001b[K ni cor\u001b[01;31m\u001b[Ka\u001b[m\u001b[Kzón\n"
     ]
    }
   ],
   "source": [
    "# ¿Qué pasa si quito y pongo el -E?\n",
    "grep -E \"a|e\" poema.txt"
   ]
  },
  {
   "cell_type": "code",
   "execution_count": 14,
   "id": "eab88732-7956-4425-bdca-312f73cbd470",
   "metadata": {},
   "outputs": [
    {
     "name": "stdout",
     "output_type": "stream",
     "text": [
      "Que conmigo aquí \u001b[01;31m\u001b[Kse\u001b[m\u001b[K mida\n",
      "Que \u001b[01;31m\u001b[Kse\u001b[m\u001b[K sobrevalora\n",
      "Y \u001b[01;31m\u001b[Kse\u001b[m\u001b[K cree superior a ultranza\n"
     ]
    }
   ],
   "source": [
    "# ¿Para qué sirve -w?\n",
    "grep -w \"se\" poema.txt"
   ]
  },
  {
   "cell_type": "code",
   "execution_count": 20,
   "id": "755d2926-61cd-4b7c-8923-69c60db0b14a",
   "metadata": {},
   "outputs": [
    {
     "name": "stdout",
     "output_type": "stream",
     "text": [
      "38\n"
     ]
    }
   ],
   "source": [
    "#¿Qué pasa aquí?\n",
    "grep -E -c \"^.*$\" poema.txt"
   ]
  },
  {
   "cell_type": "code",
   "execution_count": 23,
   "id": "6069929b-39cb-4440-8a1f-13059dcfd790",
   "metadata": {},
   "outputs": [
    {
     "name": "stdout",
     "output_type": "stream",
     "text": [
      "3\n"
     ]
    }
   ],
   "source": [
    "grep -c \"?\" poema.txt"
   ]
  },
  {
   "cell_type": "markdown",
   "id": "fb1766f6-ec31-49ae-85c7-995bd3316a8b",
   "metadata": {},
   "source": [
    "### Sed"
   ]
  },
  {
   "cell_type": "code",
   "execution_count": 25,
   "id": "f75f63ea-c37b-4f10-b12d-612ee0bad638",
   "metadata": {},
   "outputs": [],
   "source": [
    "# Reemplazar las o por O en todo el texto\n",
    "sed 's/o/O/g' <poema.txt >poemaO.txt"
   ]
  },
  {
   "cell_type": "code",
   "execution_count": 26,
   "id": "2cda9545-8dd5-43a1-a004-f36f0840c874",
   "metadata": {},
   "outputs": [
    {
     "name": "stdout",
     "output_type": "stream",
     "text": [
      "Que es esto\n"
     ]
    }
   ],
   "source": [
    "# No es necesario que sea archivo de texto\n",
    "echo \"que es esto\" | sed 's/q/Q/'"
   ]
  },
  {
   "cell_type": "code",
   "execution_count": 27,
   "id": "4a4fd167-4293-48a5-9c23-1729b536d927",
   "metadata": {},
   "outputs": [],
   "source": [
    "# Podemos sobreescribir el contenido de un fichero sin generar otro\n",
    "sed -i 's/t/T/g' poemaO.txt"
   ]
  },
  {
   "cell_type": "code",
   "execution_count": 28,
   "id": "ab694438-fa73-463c-b400-c33516c243df",
   "metadata": {},
   "outputs": [],
   "source": [
    "# Podemos reemplezar algo son en las líneas con un patrón\n",
    "sed -i '/rapero/s/f/F/g' poemaO.txt"
   ]
  },
  {
   "cell_type": "code",
   "execution_count": 31,
   "id": "f1703afb-4d8e-45b6-b527-48e2b8af8bf5",
   "metadata": {},
   "outputs": [],
   "source": [
    "# Podemos reemplazar solo en determinadas líneas\n",
    "sed -i '9,27 s/Que/Como/g' poemaO.txt"
   ]
  },
  {
   "cell_type": "code",
   "execution_count": 32,
   "id": "bfc077c4-9019-4e82-a202-06f9d854350f",
   "metadata": {},
   "outputs": [
    {
     "name": "stdout",
     "output_type": "stream",
     "text": [
      "Fecha:15/03/20\n",
      "CódigO: 00112233\n",
      "[VeRsO 1:RObeRTO]++++\n",
      "La pRimeRa es la vencida\n",
      "La TeRceRa es la TeRceRa\n",
      "Así qUe ReTO a cUalqUieRa\n",
      "QUe cOnmigO aqUí se mida\n",
      "QUien acepTe es Un sUicida\n",
      "Como se sObRevalORa\n",
      "PORqUe nadie me vence ahORa\n",
      "Ni el cOpleRO campeón mUndial\n",
      "Ni Un RapeRO de fReesTyle\n",
      "Ni\n",
      "Ni la mejOR cOmpUTadORa\n",
      "\n",
      "[VeRsO 2:cOmpUTadORa]***\n",
      "¿Ni la mejOR cOmpUTadORa?\n",
      "¿Ni la mejOR COmpUTadORa?\n",
      "¿LO dice UsTed qUe es Un simple hUmanO?\n",
      "Se mUesTRa Tan UfanO\n",
      "PeRO le llegó la hORa\n",
      "PORqUe sU egO lO devORa\n",
      "Y se cRee sUpeRiOR a UlTRanza\n",
      "PeRO cOn Una mUesTRa alcanza\n",
      "HOy las bOmbas qUe cReaROn sUs menTes\n",
      "SOn más inTeligenTes\n",
      "Como lOs idiOTas qUe las lansan\n",
      "\n",
      "[VeRsO 3:RObeRTO]++**\n",
      "LOs idiOTas qUe las lanzan\n",
      "A mí nO me RepResenTan\n",
      "PeRO a lOs qUe las invenTan\n",
      "QUizás debas TU cOnfianza Y aUnqUe paRezca chanza\n",
      "TU vida es pOR sU invención\n",
      "Y digO vida cOn cOmpasión\n",
      "A Un RejUnTe iRRazOnable\n",
      "De ciRcUiTOs, chips y cables\n",
      "Sin alma ni cORazón\n"
     ]
    }
   ],
   "source": [
    "# Encadenar sustituciones\n",
    "sed -e 's/u/U/g' -e 's/r/R/g' poemaO.txt "
   ]
  },
  {
   "cell_type": "markdown",
   "id": "5d5f61d6-1823-4c38-a17e-7764e28802bb",
   "metadata": {},
   "source": [
    "### Cut"
   ]
  },
  {
   "cell_type": "code",
   "execution_count": 5,
   "id": "261c0c38-f8ef-4717-b80e-3232300267ba",
   "metadata": {},
   "outputs": [
    {
     "name": "stdout",
     "output_type": "stream",
     "text": [
      "cut (GNU coreutils) 8.32\n",
      "Copyright © 2020 Free Software Foundation, Inc.\n",
      "License GPLv3+: GNU GPL version 3 or later <https://gnu.org/licenses/gpl.html>.\n",
      "This is free software: you are free to change and redistribute it.\n",
      "There is NO WARRANTY, to the extent permitted by law.\n",
      "\n",
      "Escrito por David M. Ihnat, David MacKenzie, y Jim Meyering.\n"
     ]
    }
   ],
   "source": [
    "cut --version"
   ]
  },
  {
   "cell_type": "code",
   "execution_count": 9,
   "id": "56a2de4d-a27c-4726-b5dd-b9fa9b59d817",
   "metadata": {},
   "outputs": [],
   "source": [
    "# Ahora vamos a unir dos archivos\n",
    "paste students.txt grades.txt > notas_final.txt"
   ]
  },
  {
   "cell_type": "code",
   "execution_count": 13,
   "id": "850d8b4b-858c-49f4-9aef-4270e56c3a08",
   "metadata": {},
   "outputs": [
    {
     "name": "stdout",
     "output_type": "stream",
     "text": [
      "Mike\n",
      "Ray\n",
      "Susan\n",
      "Monika\n",
      "David\n"
     ]
    }
   ],
   "source": [
    "# Con cut podemos mostrar solo una columna\n",
    "cut -f 1 notas_final.txt"
   ]
  },
  {
   "cell_type": "code",
   "execution_count": 16,
   "id": "6afa678b-e7cc-43a2-bd8c-66ac3c8e80e3",
   "metadata": {},
   "outputs": [],
   "source": [
    "#cut -f 1 -d \",\" archivo #Esto en caso de que hubiese algun separador en la columna\n",
    "#cut -f 1-2 notas_final.txt"
   ]
  },
  {
   "cell_type": "markdown",
   "id": "dd9540ce-f318-4205-aff3-3f9291b52f69",
   "metadata": {},
   "source": [
    "### Sort"
   ]
  },
  {
   "cell_type": "code",
   "execution_count": 17,
   "id": "a83df806-2918-49bc-897a-3e4f4252a3c5",
   "metadata": {},
   "outputs": [
    {
     "name": "stdout",
     "output_type": "stream",
     "text": [
      "sort (GNU coreutils) 8.32\n",
      "Copyright © 2020 Free Software Foundation, Inc.\n",
      "License GPLv3+: GNU GPL version 3 or later <https://gnu.org/licenses/gpl.html>.\n",
      "This is free software: you are free to change and redistribute it.\n",
      "There is NO WARRANTY, to the extent permitted by law.\n",
      "\n",
      "Escrito por Mike Haertel y Paul Eggert.\n"
     ]
    }
   ],
   "source": [
    "sort --version"
   ]
  },
  {
   "cell_type": "code",
   "execution_count": 19,
   "id": "79f27c98-aaa1-4257-932f-7eed05471b86",
   "metadata": {},
   "outputs": [
    {
     "name": "stdout",
     "output_type": "stream",
     "text": [
      "David\n",
      "Mike\n",
      "Monika\n",
      "Ray\n",
      "Susan\n"
     ]
    }
   ],
   "source": [
    "sort students.txt  #si queremos especificar por columna usamos -k"
   ]
  },
  {
   "cell_type": "code",
   "execution_count": 20,
   "id": "3ddbc780-7dbb-4eea-a754-1504648ed57e",
   "metadata": {},
   "outputs": [],
   "source": [
    "# -g elimina los duplicados ej: sort -g -k 2 archivo.txt"
   ]
  }
 ],
 "metadata": {
  "kernelspec": {
   "display_name": "Bash",
   "language": "bash",
   "name": "bash"
  },
  "language_info": {
   "codemirror_mode": "shell",
   "file_extension": ".sh",
   "mimetype": "text/x-sh",
   "name": "bash"
  }
 },
 "nbformat": 4,
 "nbformat_minor": 5
}
